{
 "cells": [
  {
   "cell_type": "markdown",
   "metadata": {},
   "source": [
    "#### The code below in Markdown is meant to be run only once"
   ]
  },
  {
   "cell_type": "markdown",
   "metadata": {},
   "source": [
    "import boto3\n",
    "import os\n",
    "\n",
    "s3 = boto3.client('s3', \n",
    "            aws_access_key_id=os.environ['AWS_ACCESS_KEY_ID'],\n",
    "            aws_secret_access_key=os.environ['AWS_SECRET_ACCESS_KEY'],\n",
    "            aws_session_token=\"\",\n",
    "            )\n",
    "\n",
    "bucket = \"zrive-ds-data\"\n",
    "parquets = [\"orders.parquet\", \"regulars.parquet\", \"abandoned_carts.parquet\", \"inventory.parquet\", \"users.parquet\"]\n",
    "\n",
    "for parquet in parquets:\n",
    "    path = f\"groceries/sampled-datasets/{parquet}\"\n",
    "    local = f\"parquets/{parquet}\"\n",
    "    s3.download_file(bucket, path, local)\n"
   ]
  },
  {
   "cell_type": "code",
   "execution_count": null,
   "metadata": {},
   "outputs": [],
   "source": []
  }
 ],
 "metadata": {
  "kernelspec": {
   "display_name": "zrive-project",
   "language": "python",
   "name": "python3"
  },
  "language_info": {
   "codemirror_mode": {
    "name": "ipython",
    "version": 3
   },
   "file_extension": ".py",
   "mimetype": "text/x-python",
   "name": "python",
   "nbconvert_exporter": "python",
   "pygments_lexer": "ipython3",
   "version": "3.11.0"
  },
  "orig_nbformat": 4
 },
 "nbformat": 4,
 "nbformat_minor": 2
}
